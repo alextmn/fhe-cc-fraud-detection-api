{
 "cells": [
  {
   "cell_type": "markdown",
   "id": "7a93049f-06a2-4839-9667-fe8a937b1149",
   "metadata": {},
   "source": [
    "# Creditcard Fraud - Logistic Regression\n",
    "\n",
    "The goal of this project is to build a straightforward Logistic Regression model for detecting credit card fraud, showcasing how Fully Homomorphic Encryption (FHE) can protect sensitive data during prediction. Because legitimate transactions vastly outnumber fraudulent ones, one key challenge is achieving a model that remains highly sensitive to fraud despite this imbalance.\n",
    "\n",
    "We will use a publicly available dataset from Kaggle, which contains transactions made by European credit card holders over two days in September 2013. The dataset is highly imbalanced: of 284,807 transactions, only 492 (around 0.172%) are fraudulent. Most input variables are numeric features resulting from a PCA transformation, performed to maintain confidentiality. The only features not transformed by PCA are Time—which records the seconds elapsed between each transaction and the first transaction—and Amount, indicating the transaction value.\n",
    "\n",
    "The target variable, Class, denotes whether a transaction is fraudulent (1) or legitimate (0). By integrating FHE into our pipeline, this demo will illustrate how organizations can perform fraud detection inference securely without revealing either sensitive transaction details or model parameters."
   ]
  },
  {
   "cell_type": "markdown",
   "id": "782d6b4f-fc85-48e1-8c64-d3cb640e9eb3",
   "metadata": {},
   "source": [
    "## Dependencies"
   ]
  },
  {
   "cell_type": "code",
   "execution_count": 1,
   "id": "76b749ad-b887-4adb-9eaa-ba737c5152bd",
   "metadata": {},
   "outputs": [],
   "source": [
    "import pandas as pd\n",
    "import matplotlib.pyplot as plt\n",
    "import seaborn as sns\n",
    "import math\n",
    "import sklearn\n",
    "import numpy as np \n",
    "\n",
    "import warnings\n",
    "warnings.filterwarnings('ignore')\n",
    "\n",
    "%matplotlib inline"
   ]
  },
  {
   "cell_type": "markdown",
   "id": "290d36c0-8571-400a-b4b6-e8a5db8b5ce1",
   "metadata": {},
   "source": [
    "## Data set"
   ]
  },
  {
   "cell_type": "code",
   "execution_count": 2,
   "id": "55e9058f-4e3a-4800-8e2f-ec811f5ee336",
   "metadata": {},
   "outputs": [
    {
     "name": "stdout",
     "output_type": "stream",
     "text": [
      "Number of rows amd columns (284807, 31)\n"
     ]
    }
   ],
   "source": [
    "df = pd.read_csv(\"creditcardfraud/creditcard.csv\")\n",
    "print('Number of rows amd columns',df.shape)"
   ]
  },
  {
   "cell_type": "code",
   "execution_count": 3,
   "id": "0ea26628-a442-4f43-8ab3-d587ecf0757a",
   "metadata": {},
   "outputs": [
    {
     "name": "stdout",
     "output_type": "stream",
     "text": [
      "<class 'pandas.core.frame.DataFrame'>\n",
      "RangeIndex: 284807 entries, 0 to 284806\n",
      "Data columns (total 31 columns):\n",
      " #   Column  Non-Null Count   Dtype  \n",
      "---  ------  --------------   -----  \n",
      " 0   Time    284807 non-null  float64\n",
      " 1   V1      284807 non-null  float64\n",
      " 2   V2      284807 non-null  float64\n",
      " 3   V3      284807 non-null  float64\n",
      " 4   V4      284807 non-null  float64\n",
      " 5   V5      284807 non-null  float64\n",
      " 6   V6      284807 non-null  float64\n",
      " 7   V7      284807 non-null  float64\n",
      " 8   V8      284807 non-null  float64\n",
      " 9   V9      284807 non-null  float64\n",
      " 10  V10     284807 non-null  float64\n",
      " 11  V11     284807 non-null  float64\n",
      " 12  V12     284807 non-null  float64\n",
      " 13  V13     284807 non-null  float64\n",
      " 14  V14     284807 non-null  float64\n",
      " 15  V15     284807 non-null  float64\n",
      " 16  V16     284807 non-null  float64\n",
      " 17  V17     284807 non-null  float64\n",
      " 18  V18     284807 non-null  float64\n",
      " 19  V19     284807 non-null  float64\n",
      " 20  V20     284807 non-null  float64\n",
      " 21  V21     284807 non-null  float64\n",
      " 22  V22     284807 non-null  float64\n",
      " 23  V23     284807 non-null  float64\n",
      " 24  V24     284807 non-null  float64\n",
      " 25  V25     284807 non-null  float64\n",
      " 26  V26     284807 non-null  float64\n",
      " 27  V27     284807 non-null  float64\n",
      " 28  V28     284807 non-null  float64\n",
      " 29  Amount  284807 non-null  float64\n",
      " 30  Class   284807 non-null  int64  \n",
      "dtypes: float64(30), int64(1)\n",
      "memory usage: 67.4 MB\n"
     ]
    }
   ],
   "source": [
    "# info about the dataset\n",
    "df.info()"
   ]
  },
  {
   "cell_type": "code",
   "execution_count": 4,
   "id": "e011f01e-779c-4de2-b3cf-450075762c1a",
   "metadata": {},
   "outputs": [
    {
     "data": {
      "text/html": [
       "<div>\n",
       "<style scoped>\n",
       "    .dataframe tbody tr th:only-of-type {\n",
       "        vertical-align: middle;\n",
       "    }\n",
       "\n",
       "    .dataframe tbody tr th {\n",
       "        vertical-align: top;\n",
       "    }\n",
       "\n",
       "    .dataframe thead th {\n",
       "        text-align: right;\n",
       "    }\n",
       "</style>\n",
       "<table border=\"1\" class=\"dataframe\">\n",
       "  <thead>\n",
       "    <tr style=\"text-align: right;\">\n",
       "      <th></th>\n",
       "      <th>Time</th>\n",
       "      <th>V1</th>\n",
       "      <th>V2</th>\n",
       "      <th>V3</th>\n",
       "      <th>V4</th>\n",
       "      <th>V5</th>\n",
       "      <th>V6</th>\n",
       "      <th>V7</th>\n",
       "      <th>V8</th>\n",
       "      <th>V9</th>\n",
       "      <th>...</th>\n",
       "      <th>V21</th>\n",
       "      <th>V22</th>\n",
       "      <th>V23</th>\n",
       "      <th>V24</th>\n",
       "      <th>V25</th>\n",
       "      <th>V26</th>\n",
       "      <th>V27</th>\n",
       "      <th>V28</th>\n",
       "      <th>Amount</th>\n",
       "      <th>Class</th>\n",
       "    </tr>\n",
       "  </thead>\n",
       "  <tbody>\n",
       "    <tr>\n",
       "      <th>0</th>\n",
       "      <td>0.0</td>\n",
       "      <td>-1.359807</td>\n",
       "      <td>-0.072781</td>\n",
       "      <td>2.536347</td>\n",
       "      <td>1.378155</td>\n",
       "      <td>-0.338321</td>\n",
       "      <td>0.462388</td>\n",
       "      <td>0.239599</td>\n",
       "      <td>0.098698</td>\n",
       "      <td>0.363787</td>\n",
       "      <td>...</td>\n",
       "      <td>-0.018307</td>\n",
       "      <td>0.277838</td>\n",
       "      <td>-0.110474</td>\n",
       "      <td>0.066928</td>\n",
       "      <td>0.128539</td>\n",
       "      <td>-0.189115</td>\n",
       "      <td>0.133558</td>\n",
       "      <td>-0.021053</td>\n",
       "      <td>149.62</td>\n",
       "      <td>0</td>\n",
       "    </tr>\n",
       "    <tr>\n",
       "      <th>1</th>\n",
       "      <td>0.0</td>\n",
       "      <td>1.191857</td>\n",
       "      <td>0.266151</td>\n",
       "      <td>0.166480</td>\n",
       "      <td>0.448154</td>\n",
       "      <td>0.060018</td>\n",
       "      <td>-0.082361</td>\n",
       "      <td>-0.078803</td>\n",
       "      <td>0.085102</td>\n",
       "      <td>-0.255425</td>\n",
       "      <td>...</td>\n",
       "      <td>-0.225775</td>\n",
       "      <td>-0.638672</td>\n",
       "      <td>0.101288</td>\n",
       "      <td>-0.339846</td>\n",
       "      <td>0.167170</td>\n",
       "      <td>0.125895</td>\n",
       "      <td>-0.008983</td>\n",
       "      <td>0.014724</td>\n",
       "      <td>2.69</td>\n",
       "      <td>0</td>\n",
       "    </tr>\n",
       "    <tr>\n",
       "      <th>2</th>\n",
       "      <td>1.0</td>\n",
       "      <td>-1.358354</td>\n",
       "      <td>-1.340163</td>\n",
       "      <td>1.773209</td>\n",
       "      <td>0.379780</td>\n",
       "      <td>-0.503198</td>\n",
       "      <td>1.800499</td>\n",
       "      <td>0.791461</td>\n",
       "      <td>0.247676</td>\n",
       "      <td>-1.514654</td>\n",
       "      <td>...</td>\n",
       "      <td>0.247998</td>\n",
       "      <td>0.771679</td>\n",
       "      <td>0.909412</td>\n",
       "      <td>-0.689281</td>\n",
       "      <td>-0.327642</td>\n",
       "      <td>-0.139097</td>\n",
       "      <td>-0.055353</td>\n",
       "      <td>-0.059752</td>\n",
       "      <td>378.66</td>\n",
       "      <td>0</td>\n",
       "    </tr>\n",
       "    <tr>\n",
       "      <th>3</th>\n",
       "      <td>1.0</td>\n",
       "      <td>-0.966272</td>\n",
       "      <td>-0.185226</td>\n",
       "      <td>1.792993</td>\n",
       "      <td>-0.863291</td>\n",
       "      <td>-0.010309</td>\n",
       "      <td>1.247203</td>\n",
       "      <td>0.237609</td>\n",
       "      <td>0.377436</td>\n",
       "      <td>-1.387024</td>\n",
       "      <td>...</td>\n",
       "      <td>-0.108300</td>\n",
       "      <td>0.005274</td>\n",
       "      <td>-0.190321</td>\n",
       "      <td>-1.175575</td>\n",
       "      <td>0.647376</td>\n",
       "      <td>-0.221929</td>\n",
       "      <td>0.062723</td>\n",
       "      <td>0.061458</td>\n",
       "      <td>123.50</td>\n",
       "      <td>0</td>\n",
       "    </tr>\n",
       "    <tr>\n",
       "      <th>4</th>\n",
       "      <td>2.0</td>\n",
       "      <td>-1.158233</td>\n",
       "      <td>0.877737</td>\n",
       "      <td>1.548718</td>\n",
       "      <td>0.403034</td>\n",
       "      <td>-0.407193</td>\n",
       "      <td>0.095921</td>\n",
       "      <td>0.592941</td>\n",
       "      <td>-0.270533</td>\n",
       "      <td>0.817739</td>\n",
       "      <td>...</td>\n",
       "      <td>-0.009431</td>\n",
       "      <td>0.798278</td>\n",
       "      <td>-0.137458</td>\n",
       "      <td>0.141267</td>\n",
       "      <td>-0.206010</td>\n",
       "      <td>0.502292</td>\n",
       "      <td>0.219422</td>\n",
       "      <td>0.215153</td>\n",
       "      <td>69.99</td>\n",
       "      <td>0</td>\n",
       "    </tr>\n",
       "    <tr>\n",
       "      <th>...</th>\n",
       "      <td>...</td>\n",
       "      <td>...</td>\n",
       "      <td>...</td>\n",
       "      <td>...</td>\n",
       "      <td>...</td>\n",
       "      <td>...</td>\n",
       "      <td>...</td>\n",
       "      <td>...</td>\n",
       "      <td>...</td>\n",
       "      <td>...</td>\n",
       "      <td>...</td>\n",
       "      <td>...</td>\n",
       "      <td>...</td>\n",
       "      <td>...</td>\n",
       "      <td>...</td>\n",
       "      <td>...</td>\n",
       "      <td>...</td>\n",
       "      <td>...</td>\n",
       "      <td>...</td>\n",
       "      <td>...</td>\n",
       "      <td>...</td>\n",
       "    </tr>\n",
       "    <tr>\n",
       "      <th>284802</th>\n",
       "      <td>172786.0</td>\n",
       "      <td>-11.881118</td>\n",
       "      <td>10.071785</td>\n",
       "      <td>-9.834783</td>\n",
       "      <td>-2.066656</td>\n",
       "      <td>-5.364473</td>\n",
       "      <td>-2.606837</td>\n",
       "      <td>-4.918215</td>\n",
       "      <td>7.305334</td>\n",
       "      <td>1.914428</td>\n",
       "      <td>...</td>\n",
       "      <td>0.213454</td>\n",
       "      <td>0.111864</td>\n",
       "      <td>1.014480</td>\n",
       "      <td>-0.509348</td>\n",
       "      <td>1.436807</td>\n",
       "      <td>0.250034</td>\n",
       "      <td>0.943651</td>\n",
       "      <td>0.823731</td>\n",
       "      <td>0.77</td>\n",
       "      <td>0</td>\n",
       "    </tr>\n",
       "    <tr>\n",
       "      <th>284803</th>\n",
       "      <td>172787.0</td>\n",
       "      <td>-0.732789</td>\n",
       "      <td>-0.055080</td>\n",
       "      <td>2.035030</td>\n",
       "      <td>-0.738589</td>\n",
       "      <td>0.868229</td>\n",
       "      <td>1.058415</td>\n",
       "      <td>0.024330</td>\n",
       "      <td>0.294869</td>\n",
       "      <td>0.584800</td>\n",
       "      <td>...</td>\n",
       "      <td>0.214205</td>\n",
       "      <td>0.924384</td>\n",
       "      <td>0.012463</td>\n",
       "      <td>-1.016226</td>\n",
       "      <td>-0.606624</td>\n",
       "      <td>-0.395255</td>\n",
       "      <td>0.068472</td>\n",
       "      <td>-0.053527</td>\n",
       "      <td>24.79</td>\n",
       "      <td>0</td>\n",
       "    </tr>\n",
       "    <tr>\n",
       "      <th>284804</th>\n",
       "      <td>172788.0</td>\n",
       "      <td>1.919565</td>\n",
       "      <td>-0.301254</td>\n",
       "      <td>-3.249640</td>\n",
       "      <td>-0.557828</td>\n",
       "      <td>2.630515</td>\n",
       "      <td>3.031260</td>\n",
       "      <td>-0.296827</td>\n",
       "      <td>0.708417</td>\n",
       "      <td>0.432454</td>\n",
       "      <td>...</td>\n",
       "      <td>0.232045</td>\n",
       "      <td>0.578229</td>\n",
       "      <td>-0.037501</td>\n",
       "      <td>0.640134</td>\n",
       "      <td>0.265745</td>\n",
       "      <td>-0.087371</td>\n",
       "      <td>0.004455</td>\n",
       "      <td>-0.026561</td>\n",
       "      <td>67.88</td>\n",
       "      <td>0</td>\n",
       "    </tr>\n",
       "    <tr>\n",
       "      <th>284805</th>\n",
       "      <td>172788.0</td>\n",
       "      <td>-0.240440</td>\n",
       "      <td>0.530483</td>\n",
       "      <td>0.702510</td>\n",
       "      <td>0.689799</td>\n",
       "      <td>-0.377961</td>\n",
       "      <td>0.623708</td>\n",
       "      <td>-0.686180</td>\n",
       "      <td>0.679145</td>\n",
       "      <td>0.392087</td>\n",
       "      <td>...</td>\n",
       "      <td>0.265245</td>\n",
       "      <td>0.800049</td>\n",
       "      <td>-0.163298</td>\n",
       "      <td>0.123205</td>\n",
       "      <td>-0.569159</td>\n",
       "      <td>0.546668</td>\n",
       "      <td>0.108821</td>\n",
       "      <td>0.104533</td>\n",
       "      <td>10.00</td>\n",
       "      <td>0</td>\n",
       "    </tr>\n",
       "    <tr>\n",
       "      <th>284806</th>\n",
       "      <td>172792.0</td>\n",
       "      <td>-0.533413</td>\n",
       "      <td>-0.189733</td>\n",
       "      <td>0.703337</td>\n",
       "      <td>-0.506271</td>\n",
       "      <td>-0.012546</td>\n",
       "      <td>-0.649617</td>\n",
       "      <td>1.577006</td>\n",
       "      <td>-0.414650</td>\n",
       "      <td>0.486180</td>\n",
       "      <td>...</td>\n",
       "      <td>0.261057</td>\n",
       "      <td>0.643078</td>\n",
       "      <td>0.376777</td>\n",
       "      <td>0.008797</td>\n",
       "      <td>-0.473649</td>\n",
       "      <td>-0.818267</td>\n",
       "      <td>-0.002415</td>\n",
       "      <td>0.013649</td>\n",
       "      <td>217.00</td>\n",
       "      <td>0</td>\n",
       "    </tr>\n",
       "  </tbody>\n",
       "</table>\n",
       "<p>284807 rows × 31 columns</p>\n",
       "</div>"
      ],
      "text/plain": [
       "            Time         V1         V2        V3        V4        V5  \\\n",
       "0            0.0  -1.359807  -0.072781  2.536347  1.378155 -0.338321   \n",
       "1            0.0   1.191857   0.266151  0.166480  0.448154  0.060018   \n",
       "2            1.0  -1.358354  -1.340163  1.773209  0.379780 -0.503198   \n",
       "3            1.0  -0.966272  -0.185226  1.792993 -0.863291 -0.010309   \n",
       "4            2.0  -1.158233   0.877737  1.548718  0.403034 -0.407193   \n",
       "...          ...        ...        ...       ...       ...       ...   \n",
       "284802  172786.0 -11.881118  10.071785 -9.834783 -2.066656 -5.364473   \n",
       "284803  172787.0  -0.732789  -0.055080  2.035030 -0.738589  0.868229   \n",
       "284804  172788.0   1.919565  -0.301254 -3.249640 -0.557828  2.630515   \n",
       "284805  172788.0  -0.240440   0.530483  0.702510  0.689799 -0.377961   \n",
       "284806  172792.0  -0.533413  -0.189733  0.703337 -0.506271 -0.012546   \n",
       "\n",
       "              V6        V7        V8        V9  ...       V21       V22  \\\n",
       "0       0.462388  0.239599  0.098698  0.363787  ... -0.018307  0.277838   \n",
       "1      -0.082361 -0.078803  0.085102 -0.255425  ... -0.225775 -0.638672   \n",
       "2       1.800499  0.791461  0.247676 -1.514654  ...  0.247998  0.771679   \n",
       "3       1.247203  0.237609  0.377436 -1.387024  ... -0.108300  0.005274   \n",
       "4       0.095921  0.592941 -0.270533  0.817739  ... -0.009431  0.798278   \n",
       "...          ...       ...       ...       ...  ...       ...       ...   \n",
       "284802 -2.606837 -4.918215  7.305334  1.914428  ...  0.213454  0.111864   \n",
       "284803  1.058415  0.024330  0.294869  0.584800  ...  0.214205  0.924384   \n",
       "284804  3.031260 -0.296827  0.708417  0.432454  ...  0.232045  0.578229   \n",
       "284805  0.623708 -0.686180  0.679145  0.392087  ...  0.265245  0.800049   \n",
       "284806 -0.649617  1.577006 -0.414650  0.486180  ...  0.261057  0.643078   \n",
       "\n",
       "             V23       V24       V25       V26       V27       V28  Amount  \\\n",
       "0      -0.110474  0.066928  0.128539 -0.189115  0.133558 -0.021053  149.62   \n",
       "1       0.101288 -0.339846  0.167170  0.125895 -0.008983  0.014724    2.69   \n",
       "2       0.909412 -0.689281 -0.327642 -0.139097 -0.055353 -0.059752  378.66   \n",
       "3      -0.190321 -1.175575  0.647376 -0.221929  0.062723  0.061458  123.50   \n",
       "4      -0.137458  0.141267 -0.206010  0.502292  0.219422  0.215153   69.99   \n",
       "...          ...       ...       ...       ...       ...       ...     ...   \n",
       "284802  1.014480 -0.509348  1.436807  0.250034  0.943651  0.823731    0.77   \n",
       "284803  0.012463 -1.016226 -0.606624 -0.395255  0.068472 -0.053527   24.79   \n",
       "284804 -0.037501  0.640134  0.265745 -0.087371  0.004455 -0.026561   67.88   \n",
       "284805 -0.163298  0.123205 -0.569159  0.546668  0.108821  0.104533   10.00   \n",
       "284806  0.376777  0.008797 -0.473649 -0.818267 -0.002415  0.013649  217.00   \n",
       "\n",
       "        Class  \n",
       "0           0  \n",
       "1           0  \n",
       "2           0  \n",
       "3           0  \n",
       "4           0  \n",
       "...       ...  \n",
       "284802      0  \n",
       "284803      0  \n",
       "284804      0  \n",
       "284805      0  \n",
       "284806      0  \n",
       "\n",
       "[284807 rows x 31 columns]"
      ]
     },
     "execution_count": 4,
     "metadata": {},
     "output_type": "execute_result"
    }
   ],
   "source": [
    "df"
   ]
  },
  {
   "cell_type": "code",
   "execution_count": 5,
   "id": "b36c4483-170a-4ae8-8d8d-ac6534c69622",
   "metadata": {},
   "outputs": [
    {
     "data": {
      "text/html": [
       "<div>\n",
       "<style scoped>\n",
       "    .dataframe tbody tr th:only-of-type {\n",
       "        vertical-align: middle;\n",
       "    }\n",
       "\n",
       "    .dataframe tbody tr th {\n",
       "        vertical-align: top;\n",
       "    }\n",
       "\n",
       "    .dataframe thead th {\n",
       "        text-align: right;\n",
       "    }\n",
       "</style>\n",
       "<table border=\"1\" class=\"dataframe\">\n",
       "  <thead>\n",
       "    <tr style=\"text-align: right;\">\n",
       "      <th></th>\n",
       "      <th>Time</th>\n",
       "      <th>V1</th>\n",
       "      <th>V2</th>\n",
       "      <th>V3</th>\n",
       "      <th>V4</th>\n",
       "      <th>V5</th>\n",
       "      <th>V6</th>\n",
       "      <th>V7</th>\n",
       "      <th>V8</th>\n",
       "      <th>V9</th>\n",
       "      <th>...</th>\n",
       "      <th>V21</th>\n",
       "      <th>V22</th>\n",
       "      <th>V23</th>\n",
       "      <th>V24</th>\n",
       "      <th>V25</th>\n",
       "      <th>V26</th>\n",
       "      <th>V27</th>\n",
       "      <th>V28</th>\n",
       "      <th>Amount</th>\n",
       "      <th>Class</th>\n",
       "    </tr>\n",
       "  </thead>\n",
       "  <tbody>\n",
       "    <tr>\n",
       "      <th>count</th>\n",
       "      <td>284807.0</td>\n",
       "      <td>284807.0</td>\n",
       "      <td>284807.0</td>\n",
       "      <td>284807.0</td>\n",
       "      <td>284807.0</td>\n",
       "      <td>284807.0</td>\n",
       "      <td>284807.0</td>\n",
       "      <td>284807.0</td>\n",
       "      <td>284807.0</td>\n",
       "      <td>284807.0</td>\n",
       "      <td>...</td>\n",
       "      <td>284807.0</td>\n",
       "      <td>284807.0</td>\n",
       "      <td>284807.0</td>\n",
       "      <td>284807.0</td>\n",
       "      <td>284807.0</td>\n",
       "      <td>284807.0</td>\n",
       "      <td>284807.0</td>\n",
       "      <td>284807.0</td>\n",
       "      <td>284807.0</td>\n",
       "      <td>284807.0</td>\n",
       "    </tr>\n",
       "    <tr>\n",
       "      <th>mean</th>\n",
       "      <td>94814.0</td>\n",
       "      <td>0.0</td>\n",
       "      <td>0.0</td>\n",
       "      <td>-0.0</td>\n",
       "      <td>0.0</td>\n",
       "      <td>0.0</td>\n",
       "      <td>0.0</td>\n",
       "      <td>-0.0</td>\n",
       "      <td>0.0</td>\n",
       "      <td>-0.0</td>\n",
       "      <td>...</td>\n",
       "      <td>0.0</td>\n",
       "      <td>-0.0</td>\n",
       "      <td>0.0</td>\n",
       "      <td>0.0</td>\n",
       "      <td>0.0</td>\n",
       "      <td>0.0</td>\n",
       "      <td>-0.0</td>\n",
       "      <td>-0.0</td>\n",
       "      <td>88.0</td>\n",
       "      <td>0.0</td>\n",
       "    </tr>\n",
       "    <tr>\n",
       "      <th>std</th>\n",
       "      <td>47488.0</td>\n",
       "      <td>2.0</td>\n",
       "      <td>2.0</td>\n",
       "      <td>2.0</td>\n",
       "      <td>1.0</td>\n",
       "      <td>1.0</td>\n",
       "      <td>1.0</td>\n",
       "      <td>1.0</td>\n",
       "      <td>1.0</td>\n",
       "      <td>1.0</td>\n",
       "      <td>...</td>\n",
       "      <td>1.0</td>\n",
       "      <td>1.0</td>\n",
       "      <td>1.0</td>\n",
       "      <td>1.0</td>\n",
       "      <td>1.0</td>\n",
       "      <td>0.0</td>\n",
       "      <td>0.0</td>\n",
       "      <td>0.0</td>\n",
       "      <td>250.0</td>\n",
       "      <td>0.0</td>\n",
       "    </tr>\n",
       "    <tr>\n",
       "      <th>min</th>\n",
       "      <td>0.0</td>\n",
       "      <td>-56.0</td>\n",
       "      <td>-73.0</td>\n",
       "      <td>-48.0</td>\n",
       "      <td>-6.0</td>\n",
       "      <td>-114.0</td>\n",
       "      <td>-26.0</td>\n",
       "      <td>-44.0</td>\n",
       "      <td>-73.0</td>\n",
       "      <td>-13.0</td>\n",
       "      <td>...</td>\n",
       "      <td>-35.0</td>\n",
       "      <td>-11.0</td>\n",
       "      <td>-45.0</td>\n",
       "      <td>-3.0</td>\n",
       "      <td>-10.0</td>\n",
       "      <td>-3.0</td>\n",
       "      <td>-23.0</td>\n",
       "      <td>-15.0</td>\n",
       "      <td>0.0</td>\n",
       "      <td>0.0</td>\n",
       "    </tr>\n",
       "    <tr>\n",
       "      <th>25%</th>\n",
       "      <td>54202.0</td>\n",
       "      <td>-1.0</td>\n",
       "      <td>-1.0</td>\n",
       "      <td>-1.0</td>\n",
       "      <td>-1.0</td>\n",
       "      <td>-1.0</td>\n",
       "      <td>-1.0</td>\n",
       "      <td>-1.0</td>\n",
       "      <td>-0.0</td>\n",
       "      <td>-1.0</td>\n",
       "      <td>...</td>\n",
       "      <td>-0.0</td>\n",
       "      <td>-1.0</td>\n",
       "      <td>-0.0</td>\n",
       "      <td>-0.0</td>\n",
       "      <td>-0.0</td>\n",
       "      <td>-0.0</td>\n",
       "      <td>-0.0</td>\n",
       "      <td>-0.0</td>\n",
       "      <td>6.0</td>\n",
       "      <td>0.0</td>\n",
       "    </tr>\n",
       "    <tr>\n",
       "      <th>50%</th>\n",
       "      <td>84692.0</td>\n",
       "      <td>0.0</td>\n",
       "      <td>0.0</td>\n",
       "      <td>0.0</td>\n",
       "      <td>-0.0</td>\n",
       "      <td>-0.0</td>\n",
       "      <td>-0.0</td>\n",
       "      <td>0.0</td>\n",
       "      <td>0.0</td>\n",
       "      <td>-0.0</td>\n",
       "      <td>...</td>\n",
       "      <td>-0.0</td>\n",
       "      <td>0.0</td>\n",
       "      <td>-0.0</td>\n",
       "      <td>0.0</td>\n",
       "      <td>0.0</td>\n",
       "      <td>-0.0</td>\n",
       "      <td>0.0</td>\n",
       "      <td>0.0</td>\n",
       "      <td>22.0</td>\n",
       "      <td>0.0</td>\n",
       "    </tr>\n",
       "    <tr>\n",
       "      <th>75%</th>\n",
       "      <td>139320.0</td>\n",
       "      <td>1.0</td>\n",
       "      <td>1.0</td>\n",
       "      <td>1.0</td>\n",
       "      <td>1.0</td>\n",
       "      <td>1.0</td>\n",
       "      <td>0.0</td>\n",
       "      <td>1.0</td>\n",
       "      <td>0.0</td>\n",
       "      <td>1.0</td>\n",
       "      <td>...</td>\n",
       "      <td>0.0</td>\n",
       "      <td>1.0</td>\n",
       "      <td>0.0</td>\n",
       "      <td>0.0</td>\n",
       "      <td>0.0</td>\n",
       "      <td>0.0</td>\n",
       "      <td>0.0</td>\n",
       "      <td>0.0</td>\n",
       "      <td>77.0</td>\n",
       "      <td>0.0</td>\n",
       "    </tr>\n",
       "    <tr>\n",
       "      <th>max</th>\n",
       "      <td>172792.0</td>\n",
       "      <td>2.0</td>\n",
       "      <td>22.0</td>\n",
       "      <td>9.0</td>\n",
       "      <td>17.0</td>\n",
       "      <td>35.0</td>\n",
       "      <td>73.0</td>\n",
       "      <td>121.0</td>\n",
       "      <td>20.0</td>\n",
       "      <td>16.0</td>\n",
       "      <td>...</td>\n",
       "      <td>27.0</td>\n",
       "      <td>11.0</td>\n",
       "      <td>23.0</td>\n",
       "      <td>5.0</td>\n",
       "      <td>8.0</td>\n",
       "      <td>4.0</td>\n",
       "      <td>32.0</td>\n",
       "      <td>34.0</td>\n",
       "      <td>25691.0</td>\n",
       "      <td>1.0</td>\n",
       "    </tr>\n",
       "  </tbody>\n",
       "</table>\n",
       "<p>8 rows × 31 columns</p>\n",
       "</div>"
      ],
      "text/plain": [
       "           Time        V1        V2        V3        V4        V5        V6  \\\n",
       "count  284807.0  284807.0  284807.0  284807.0  284807.0  284807.0  284807.0   \n",
       "mean    94814.0       0.0       0.0      -0.0       0.0       0.0       0.0   \n",
       "std     47488.0       2.0       2.0       2.0       1.0       1.0       1.0   \n",
       "min         0.0     -56.0     -73.0     -48.0      -6.0    -114.0     -26.0   \n",
       "25%     54202.0      -1.0      -1.0      -1.0      -1.0      -1.0      -1.0   \n",
       "50%     84692.0       0.0       0.0       0.0      -0.0      -0.0      -0.0   \n",
       "75%    139320.0       1.0       1.0       1.0       1.0       1.0       0.0   \n",
       "max    172792.0       2.0      22.0       9.0      17.0      35.0      73.0   \n",
       "\n",
       "             V7        V8        V9  ...       V21       V22       V23  \\\n",
       "count  284807.0  284807.0  284807.0  ...  284807.0  284807.0  284807.0   \n",
       "mean       -0.0       0.0      -0.0  ...       0.0      -0.0       0.0   \n",
       "std         1.0       1.0       1.0  ...       1.0       1.0       1.0   \n",
       "min       -44.0     -73.0     -13.0  ...     -35.0     -11.0     -45.0   \n",
       "25%        -1.0      -0.0      -1.0  ...      -0.0      -1.0      -0.0   \n",
       "50%         0.0       0.0      -0.0  ...      -0.0       0.0      -0.0   \n",
       "75%         1.0       0.0       1.0  ...       0.0       1.0       0.0   \n",
       "max       121.0      20.0      16.0  ...      27.0      11.0      23.0   \n",
       "\n",
       "            V24       V25       V26       V27       V28    Amount     Class  \n",
       "count  284807.0  284807.0  284807.0  284807.0  284807.0  284807.0  284807.0  \n",
       "mean        0.0       0.0       0.0      -0.0      -0.0      88.0       0.0  \n",
       "std         1.0       1.0       0.0       0.0       0.0     250.0       0.0  \n",
       "min        -3.0     -10.0      -3.0     -23.0     -15.0       0.0       0.0  \n",
       "25%        -0.0      -0.0      -0.0      -0.0      -0.0       6.0       0.0  \n",
       "50%         0.0       0.0      -0.0       0.0       0.0      22.0       0.0  \n",
       "75%         0.0       0.0       0.0       0.0       0.0      77.0       0.0  \n",
       "max         5.0       8.0       4.0      32.0      34.0   25691.0       1.0  \n",
       "\n",
       "[8 rows x 31 columns]"
      ]
     },
     "execution_count": 5,
     "metadata": {},
     "output_type": "execute_result"
    }
   ],
   "source": [
    "# show statistical properties\n",
    "df.describe().round()"
   ]
  },
  {
   "cell_type": "markdown",
   "id": "53505d3c-fa76-4dc4-a85d-364456452966",
   "metadata": {},
   "source": [
    "## Normal transactions versus fraud"
   ]
  },
  {
   "cell_type": "code",
   "execution_count": 6,
   "id": "2d098e87-1c7a-4d3b-af00-115b48324e77",
   "metadata": {},
   "outputs": [
    {
     "name": "stdout",
     "output_type": "stream",
     "text": [
      "Non Fraud %  99.83\n",
      "Fraud %     0.17\n"
     ]
    },
    {
     "data": {
      "image/png": "[encoded data removed]",
      "text/plain": [
       "<Figure size 1000x800 with 1 Axes>"
      ]
     },
     "metadata": {},
     "output_type": "display_data"
    }
   ],
   "source": [
    "plt.figure(figsize=(10,8))\n",
    "sns.set_style('darkgrid')\n",
    "sns.barplot(x=df['Class'].value_counts().index,y=df['Class'].value_counts(), palette=[\"C1\", \"C8\"])\n",
    "plt.title('Non Fraud X Fraud')\n",
    "plt.ylabel('Count')\n",
    "plt.xlabel('0: Non Fraud,  1: Fraud')\n",
    "print ('Non Fraud % ',round(df['Class'].value_counts()[0]/len(df)*100,2))\n",
    "print ('Fraud %    ',round(df['Class'].value_counts()[1]/len(df)*100,2));"
   ]
  },
  {
   "cell_type": "markdown",
   "id": "d72a9968-b1f6-414f-b421-a781af32aff3",
   "metadata": {},
   "source": [
    "## Defining features and traget => f(X) = y"
   ]
  },
  {
   "cell_type": "code",
   "execution_count": 7,
   "id": "1a89d79a-eb64-4646-86da-edfba6f30ce9",
   "metadata": {},
   "outputs": [],
   "source": [
    "feature_names = df.iloc[:, 1:30].columns\n",
    "target = df.iloc[:1, 30:].columns\n",
    "\n",
    "data_features = df[feature_names]\n",
    "data_target = df[target]"
   ]
  },
  {
   "cell_type": "code",
   "execution_count": 8,
   "id": "d82fafdc-ddf7-4555-bbc4-1fc4b98ab70a",
   "metadata": {},
   "outputs": [
    {
     "data": {
      "text/plain": [
       "Index(['V1', 'V2', 'V3', 'V4', 'V5', 'V6', 'V7', 'V8', 'V9', 'V10', 'V11',\n",
       "       'V12', 'V13', 'V14', 'V15', 'V16', 'V17', 'V18', 'V19', 'V20', 'V21',\n",
       "       'V22', 'V23', 'V24', 'V25', 'V26', 'V27', 'V28', 'Amount'],\n",
       "      dtype='object')"
      ]
     },
     "execution_count": 8,
     "metadata": {},
     "output_type": "execute_result"
    }
   ],
   "source": [
    "feature_names"
   ]
  },
  {
   "cell_type": "code",
   "execution_count": 9,
   "id": "6f42da9e-41e8-4202-95e8-3f1569512c21",
   "metadata": {},
   "outputs": [
    {
     "data": {
      "text/plain": [
       "Index(['Class'], dtype='object')"
      ]
     },
     "execution_count": 9,
     "metadata": {},
     "output_type": "execute_result"
    }
   ],
   "source": [
    "target"
   ]
  },
  {
   "cell_type": "markdown",
   "id": "599b57b8-3714-4ee1-91c2-b9f22adbfa8f",
   "metadata": {},
   "source": [
    "After defining the dataset and separating the input features from the target variable, we used the train_test_split function to divide the data into training and test sets. Specifically, 70% of the data was allocated for training while 30% was set aside for testing. This function relies on randomization, so we used a random seed (np.random.seed) to ensure that each run uses the same data split."
   ]
  },
  {
   "cell_type": "code",
   "execution_count": 10,
   "id": "948d941f-b9cc-4f1a-8115-9cf9f02010f8",
   "metadata": {},
   "outputs": [],
   "source": [
    "from sklearn.model_selection import train_test_split\n",
    "np.random.seed(123)\n",
    "X_train, X_test, y_train, y_test = train_test_split(data_features, data_target, \n",
    "                                                    train_size = 0.70, test_size = 0.30, random_state = 1)"
   ]
  },
  {
   "cell_type": "markdown",
   "id": "5363cc8a-202b-4a1a-9acd-73a9b1d11d19",
   "metadata": {},
   "source": [
    "# Training the Logistic model"
   ]
  },
  {
   "cell_type": "code",
   "execution_count": 11,
   "id": "91d70402-055c-49c0-98bd-b810eb9a94fa",
   "metadata": {},
   "outputs": [
    {
     "data": {
      "text/html": [
       "<style>#sk-container-id-1 {color: black;}#sk-container-id-1 pre{padding: 0;}#sk-container-id-1 div.sk-toggleable {background-color: white;}#sk-container-id-1 label.sk-toggleable__label {cursor: pointer;display: block;width: 100%;margin-bottom: 0;padding: 0.3em;box-sizing: border-box;text-align: center;}#sk-container-id-1 label.sk-toggleable__label-arrow:before {content: \"▸\";float: left;margin-right: 0.25em;color: #696969;}#sk-container-id-1 label.sk-toggleable__label-arrow:hover:before {color: black;}#sk-container-id-1 div.sk-estimator:hover label.sk-toggleable__label-arrow:before {color: black;}#sk-container-id-1 div.sk-toggleable__content {max-height: 0;max-width: 0;overflow: hidden;text-align: left;background-color: #f0f8ff;}#sk-container-id-1 div.sk-toggleable__content pre {margin: 0.2em;color: black;border-radius: 0.25em;background-color: #f0f8ff;}#sk-container-id-1 input.sk-toggleable__control:checked~div.sk-toggleable__content {max-height: 200px;max-width: 100%;overflow: auto;}#sk-container-id-1 input.sk-toggleable__control:checked~label.sk-toggleable__label-arrow:before {content: \"▾\";}#sk-container-id-1 div.sk-estimator input.sk-toggleable__control:checked~label.sk-toggleable__label {background-color: #d4ebff;}#sk-container-id-1 div.sk-label input.sk-toggleable__control:checked~label.sk-toggleable__label {background-color: #d4ebff;}#sk-container-id-1 input.sk-hidden--visually {border: 0;clip: rect(1px 1px 1px 1px);clip: rect(1px, 1px, 1px, 1px);height: 1px;margin: -1px;overflow: hidden;padding: 0;position: absolute;width: 1px;}#sk-container-id-1 div.sk-estimator {font-family: monospace;background-color: #f0f8ff;border: 1px dotted black;border-radius: 0.25em;box-sizing: border-box;margin-bottom: 0.5em;}#sk-container-id-1 div.sk-estimator:hover {background-color: #d4ebff;}#sk-container-id-1 div.sk-parallel-item::after {content: \"\";width: 100%;border-bottom: 1px solid gray;flex-grow: 1;}#sk-container-id-1 div.sk-label:hover label.sk-toggleable__label {background-color: #d4ebff;}#sk-container-id-1 div.sk-serial::before {content: \"\";position: absolute;border-left: 1px solid gray;box-sizing: border-box;top: 0;bottom: 0;left: 50%;z-index: 0;}#sk-container-id-1 div.sk-serial {display: flex;flex-direction: column;align-items: center;background-color: white;padding-right: 0.2em;padding-left: 0.2em;position: relative;}#sk-container-id-1 div.sk-item {position: relative;z-index: 1;}#sk-container-id-1 div.sk-parallel {display: flex;align-items: stretch;justify-content: center;background-color: white;position: relative;}#sk-container-id-1 div.sk-item::before, #sk-container-id-1 div.sk-parallel-item::before {content: \"\";position: absolute;border-left: 1px solid gray;box-sizing: border-box;top: 0;bottom: 0;left: 50%;z-index: -1;}#sk-container-id-1 div.sk-parallel-item {display: flex;flex-direction: column;z-index: 1;position: relative;background-color: white;}#sk-container-id-1 div.sk-parallel-item:first-child::after {align-self: flex-end;width: 50%;}#sk-container-id-1 div.sk-parallel-item:last-child::after {align-self: flex-start;width: 50%;}#sk-container-id-1 div.sk-parallel-item:only-child::after {width: 0;}#sk-container-id-1 div.sk-dashed-wrapped {border: 1px dashed gray;margin: 0 0.4em 0.5em 0.4em;box-sizing: border-box;padding-bottom: 0.4em;background-color: white;}#sk-container-id-1 div.sk-label label {font-family: monospace;font-weight: bold;display: inline-block;line-height: 1.2em;}#sk-container-id-1 div.sk-label-container {text-align: center;}#sk-container-id-1 div.sk-container {/* jupyter's `normalize.less` sets `[hidden] { display: none; }` but bootstrap.min.css set `[hidden] { display: none !important; }` so we also need the `!important` here to be able to override the default hidden behavior on the sphinx rendered scikit-learn.org. See: https://github.com/scikit-learn/scikit-learn/issues/21755 */display: inline-block !important;position: relative;}#sk-container-id-1 div.sk-text-repr-fallback {display: none;}</style><div id=\"sk-container-id-1\" class=\"sk-top-container\"><div class=\"sk-text-repr-fallback\"><pre>LogisticRegression()</pre><b>In a Jupyter environment, please rerun this cell to show the HTML representation or trust the notebook. <br />On GitHub, the HTML representation is unable to render, please try loading this page with nbviewer.org.</b></div><div class=\"sk-container\" hidden><div class=\"sk-item\"><div class=\"sk-estimator sk-toggleable\"><input class=\"sk-toggleable__control sk-hidden--visually\" id=\"sk-estimator-id-1\" type=\"checkbox\" checked><label for=\"sk-estimator-id-1\" class=\"sk-toggleable__label sk-toggleable__label-arrow\">LogisticRegression</label><div class=\"sk-toggleable__content\"><pre>LogisticRegression()</pre></div></div></div></div></div>"
      ],
      "text/plain": [
       "LogisticRegression()"
      ]
     },
     "execution_count": 11,
     "metadata": {},
     "output_type": "execute_result"
    }
   ],
   "source": [
    "from sklearn.linear_model import LogisticRegression\n",
    "lr = LogisticRegression()\n",
    "lr.fit(X_train, y_train)"
   ]
  },
  {
   "cell_type": "markdown",
   "id": "5957e66f-812f-434f-8acd-c3cba20b5b04",
   "metadata": {},
   "source": [
    "# Model Run and check performance: Confusion Matrix"
   ]
  },
  {
   "cell_type": "code",
   "execution_count": 12,
   "id": "452c9d92-3eb5-4196-a29d-68cfeab2ae91",
   "metadata": {},
   "outputs": [
    {
     "data": {
      "image/png": "[encoded data removed]",
      "text/plain": [
       "<Figure size 640x480 with 2 Axes>"
      ]
     },
     "metadata": {},
     "output_type": "display_data"
    }
   ],
   "source": [
    "from sklearn.metrics import accuracy_score, confusion_matrix, classification_report, roc_auc_score, roc_curve\n",
    "from sklearn.metrics import  ConfusionMatrixDisplay\n",
    "\n",
    "def PrintStats(cmat, y_test, pred):\n",
    "    tpos = cmat[0][0]\n",
    "    fneg = cmat[1][1]\n",
    "    fpos = cmat[0][1]\n",
    "    tneg = cmat[1][0]\n",
    "\n",
    "def RunModel(model, X_train, y_train, X_test, y_test):\n",
    "    model.fit(X_train, y_train.values.ravel())\n",
    "    pred = model.predict(X_test)\n",
    "    matrix = confusion_matrix(y_test, pred)\n",
    "    return matrix, pred\n",
    "\n",
    "\n",
    "cmat, pred = RunModel(lr, X_train, y_train, X_test, y_test)\n",
    "\n",
    "# Optionally, provide names for the classes\n",
    "class_names = ['Legitimate', 'Fraud']\n",
    "plt.rcParams.update({'font.size': 16})\n",
    "# Create a ConfusionMatrixDisplay and plot it\n",
    "disp = ConfusionMatrixDisplay(confusion_matrix=cmat, display_labels=class_names)\n",
    "disp.plot(values_format='d')  # 'd' to display numbers as integers\n",
    "plt.title('Confusion Matrix')\n",
    "plt.show()"
   ]
  },
  {
   "cell_type": "code",
   "execution_count": 13,
   "id": "e17bbddd-4242-4137-9710-a1f8b2a91ed4",
   "metadata": {},
   "outputs": [
    {
     "data": {
      "text/plain": [
       "0.9990519995786665"
      ]
     },
     "execution_count": 13,
     "metadata": {},
     "output_type": "execute_result"
    }
   ],
   "source": [
    "accuracy_score(y_test, pred)"
   ]
  },
  {
   "cell_type": "code",
   "execution_count": 14,
   "id": "12ab2007-012e-42f2-9a26-93c4376e0866",
   "metadata": {},
   "outputs": [
    {
     "name": "stdout",
     "output_type": "stream",
     "text": [
      "              precision    recall  f1-score   support\n",
      "\n",
      "           0       1.00      1.00      1.00     85308\n",
      "           1       0.80      0.53      0.64       135\n",
      "\n",
      "    accuracy                           1.00     85443\n",
      "   macro avg       0.90      0.77      0.82     85443\n",
      "weighted avg       1.00      1.00      1.00     85443\n",
      "\n"
     ]
    }
   ],
   "source": [
    "print (classification_report(y_test, pred))"
   ]
  },
  {
   "cell_type": "markdown",
   "id": "3801ba7c-4391-4a12-8f2d-0bef85640b42",
   "metadata": {},
   "source": [
    "# Inital results\n",
    "The confusion matrix for the Logistic Regression model indicates:\n",
    "\n",
    "- 85,290 transactions were correctly classified as normal\n",
    "- 18 transactions were incorrectly flagged as fraud (Type I error)\n",
    "- 63 transactions were mislabeled as normal but were actually fraud (Type II error)\n",
    "- 72 transactions were correctly identified as fraud\n",
    "\n",
    "(!) Although the model’s accuracy appears high, it still misclassifies around 4 out of 10 fraudulent transactions. This highlights why accuracy alone is - not a reliable measure for performance on highly imbalanced datasets. Before evaluating any performance metrics, it is essential to apply a technique - to rebalance the data (e.g., undersampling, oversampling) to ensure a more meaningful assessment of the model’s effectiveness."
   ]
  },
  {
   "attachments": {
    "cfaf42da-9c17-4ff4-8095-bcc98f9e2f14.png": {
     "image/png": "[encoded data removed]"
    }
   },
   "cell_type": "markdown",
   "id": "38f63605-b569-476a-b7f0-fff564f7b936",
   "metadata": {},
   "source": [
    "# Fine Tuning the model\n",
    "Undersampling and oversampling are common techniques for handling highly imbalanced datasets, where most transactions are legitimate and only a small fraction are fraudulent. By modifying the distribution of the classes, these methods help models become more sensitive to minority classes—like fraud—in credit card transaction data.\n",
    "\n",
    "- Undersampling reduces the number of majority-class examples (legitimate transactions) to match the minority class. Although it balances the dataset, it also removes valuable information from the majority class.\n",
    "\n",
    "- Oversampling increases the minority-class examples (fraud). Methods such as random oversampling or SMOTE replicate or synthetically generate additional fraud cases, leading to a more balanced training set and helping the model learn to detect fraudulent transactions more effectively.\n",
    "\n",
    "![image.png](attachment:cfaf42da-9c17-4ff4-8095-bcc98f9e2f14.png)"
   ]
  },
  {
   "cell_type": "markdown",
   "id": "112a0091-b614-4d1f-bee2-3c0458dd7020",
   "metadata": {},
   "source": [
    "## Applying the undersampling"
   ]
  },
  {
   "cell_type": "code",
   "execution_count": 15,
   "id": "8572ad70-1e02-4274-9777-3ade014be0bf",
   "metadata": {},
   "outputs": [],
   "source": [
    "# The function \"len\" counts the number of classes = 1 and saves it as an object \"fraud_records\"\n",
    "fraud_records = len(df[df.Class == 1])\n",
    "\n",
    "# Defines the index for fraud and non-fraud in the lines:\n",
    "fraud_indices = df[df.Class == 1].index\n",
    "not_fraud_indices = df[df.Class == 0].index\n",
    "\n",
    "# Randomly collect equal samples of each type:\n",
    "under_sample_indices = np.random.choice(not_fraud_indices, fraud_records, False)\n",
    "df_undersampled = df.iloc[np.concatenate([fraud_indices, under_sample_indices]),:]\n",
    "X_undersampled = df_undersampled.iloc[:,1:30]\n",
    "Y_undersampled = df_undersampled.Class\n",
    "X_undersampled_train, X_undersampled_test, Y_undersampled_train, Y_undersampled_test = train_test_split(X_undersampled, Y_undersampled, test_size = 0.30)"
   ]
  },
  {
   "cell_type": "markdown",
   "id": "9c2e5799-9f3d-40f8-8bbc-af8de0a4b8f3",
   "metadata": {},
   "source": [
    "## Retrain the Model"
   ]
  },
  {
   "cell_type": "code",
   "execution_count": 16,
   "id": "e1369141-b1b7-471d-bdf3-873f5c6301f3",
   "metadata": {},
   "outputs": [
    {
     "data": {
      "image/png": "[encoded data removed]",
      "text/plain": [
       "<Figure size 640x480 with 2 Axes>"
      ]
     },
     "metadata": {},
     "output_type": "display_data"
    }
   ],
   "source": [
    "lr_undersampled = LogisticRegression()\n",
    "cmat, pred = RunModel(lr_undersampled, X_undersampled_train, Y_undersampled_train, X_undersampled_test, Y_undersampled_test)\n",
    "PrintStats(cmat, Y_undersampled_test, pred)\n",
    "\n",
    "disp = ConfusionMatrixDisplay(confusion_matrix=cmat, display_labels=class_names)\n",
    "disp.plot(values_format='d')  # 'd' to display numbers as integers\n",
    "plt.title('Confusion Matrix with Undersampling')\n",
    "plt.show()"
   ]
  },
  {
   "cell_type": "code",
   "execution_count": 17,
   "id": "26c5c3a3-5337-460e-8296-d60c7f0c1026",
   "metadata": {},
   "outputs": [
    {
     "data": {
      "text/plain": [
       "0.9358108108108109"
      ]
     },
     "execution_count": 17,
     "metadata": {},
     "output_type": "execute_result"
    }
   ],
   "source": [
    "accuracy_score(Y_undersampled_test, pred)"
   ]
  },
  {
   "cell_type": "code",
   "execution_count": 18,
   "id": "07dc9b5e-2d9e-4b39-8774-015cd3154ac9",
   "metadata": {},
   "outputs": [
    {
     "name": "stdout",
     "output_type": "stream",
     "text": [
      "              precision    recall  f1-score   support\n",
      "\n",
      "           0       0.92      0.95      0.93       143\n",
      "           1       0.95      0.92      0.94       153\n",
      "\n",
      "    accuracy                           0.94       296\n",
      "   macro avg       0.94      0.94      0.94       296\n",
      "weighted avg       0.94      0.94      0.94       296\n",
      "\n"
     ]
    }
   ],
   "source": [
    "print (classification_report(Y_undersampled_test, pred))"
   ]
  },
  {
   "cell_type": "markdown",
   "id": "4ca5dede-6c2a-4c7c-9432-db62ba2495df",
   "metadata": {},
   "source": [
    "Although overall accuracy has decreased, sensitivity has substantially improved. From the confusion matrix, it is clear that the model now correctly identifies a larger proportion of fraudulent transactions. However, this improvement often comes at the cost of flagging more legitimate transactions as fraudulent."
   ]
  },
  {
   "cell_type": "markdown",
   "id": "c570d0c2-86fc-416a-bdaf-b6863d4550bb",
   "metadata": {},
   "source": [
    "## Using the new classifier for the original data test"
   ]
  },
  {
   "cell_type": "code",
   "execution_count": 19,
   "id": "d5f3dfe7-43f0-4f2e-8acc-a1a46d94fd38",
   "metadata": {},
   "outputs": [
    {
     "data": {
      "image/png": "[encoded data removed]",
      "text/plain": [
       "<Figure size 640x480 with 2 Axes>"
      ]
     },
     "metadata": {},
     "output_type": "display_data"
    }
   ],
   "source": [
    "lr_undersampled = LogisticRegression()\n",
    "cmat, pred = RunModel(lr_undersampled, X_undersampled_train, Y_undersampled_train, X_test, y_test)\n",
    "PrintStats(cmat, y_test, pred)\n",
    "\n",
    "disp = ConfusionMatrixDisplay(confusion_matrix=cmat, display_labels=class_names)\n",
    "disp.plot(values_format='d')  # 'd' to display numbers as integers\n",
    "plt.title('Confusion Matrix with Undersampling')\n",
    "plt.show()"
   ]
  },
  {
   "cell_type": "code",
   "execution_count": 20,
   "id": "d44b9ffa-9580-4556-b692-a921091c9210",
   "metadata": {},
   "outputs": [
    {
     "data": {
      "text/plain": [
       "0.9651814660065775"
      ]
     },
     "execution_count": 20,
     "metadata": {},
     "output_type": "execute_result"
    }
   ],
   "source": [
    "accuracy_score(y_test, pred)"
   ]
  },
  {
   "cell_type": "code",
   "execution_count": 21,
   "id": "6c8035c4-5f1b-443a-ad56-9e4ef03bcc9a",
   "metadata": {},
   "outputs": [
    {
     "name": "stdout",
     "output_type": "stream",
     "text": [
      "              precision    recall  f1-score   support\n",
      "\n",
      "           0       1.00      0.97      0.98     85308\n",
      "           1       0.04      0.91      0.08       135\n",
      "\n",
      "    accuracy                           0.97     85443\n",
      "   macro avg       0.52      0.94      0.53     85443\n",
      "weighted avg       1.00      0.97      0.98     85443\n",
      "\n"
     ]
    }
   ],
   "source": [
    "print (classification_report(y_test, pred))"
   ]
  },
  {
   "cell_type": "markdown",
   "id": "f9fb62d0-39a2-4b74-a558-176c22475a69",
   "metadata": {},
   "source": [
    "# Fine Tuning: Model optimization\n",
    "Machine learning algorithms typically include many parameters that can be fine-tuned. The optimal values for these parameters can shift when the data or feature set changes, or when other parameters are adjusted.\n",
    "\n",
    "One common technique for identifying the best parameter combination is GridSearchCV. This method evaluates all possible parameter combinations through cross-validation and reports the configuration that yields the highest performance based on a chosen metric.\n",
    "\n",
    "Once the best parameters are found, they are passed into the final model. In practice, you only need to rerun GridSearchCV if there are significant changes to your data or features, particularly if the search involves a large number of combinations, which can be computationally expensive."
   ]
  },
  {
   "cell_type": "code",
   "execution_count": 22,
   "id": "0316da2c-bdb0-4e55-870f-1f10d9216398",
   "metadata": {},
   "outputs": [
    {
     "data": {
      "text/plain": [
       "({'C': 1, 'penalty': 'l2'}, 0.9128655452493535)"
      ]
     },
     "execution_count": 22,
     "metadata": {},
     "output_type": "execute_result"
    }
   ],
   "source": [
    "from sklearn.model_selection import GridSearchCV\n",
    "\n",
    "param_grid = {\"C\": [1,2,3,4,5,6,7,8,9,10], \n",
    "              \"penalty\": ['l1','l2']} #Parameters\n",
    "            \n",
    "grid_search = GridSearchCV(lr, param_grid, scoring=\"precision\") #score\n",
    "grid_search.fit(y_test, pred)\n",
    "\n",
    "lr = grid_search.best_estimator_ \n",
    "grid_search.best_params_, grid_search.best_score_"
   ]
  },
  {
   "cell_type": "markdown",
   "id": "b12a6b31-9a58-428e-a339-1fc83a919d20",
   "metadata": {},
   "source": [
    "## Now, final optimized model for undersampled data"
   ]
  },
  {
   "cell_type": "code",
   "execution_count": 23,
   "id": "df0dcf1a-f1fd-4a4e-840e-6c63da6e8d52",
   "metadata": {},
   "outputs": [
    {
     "data": {
      "image/png": "[encoded data removed]",
      "text/plain": [
       "<Figure size 640x480 with 2 Axes>"
      ]
     },
     "metadata": {},
     "output_type": "display_data"
    }
   ],
   "source": [
    "lr_undersampled = LogisticRegression(C=1, penalty='l2')\n",
    "cmat, pred = RunModel(lr_undersampled, X_undersampled_train, Y_undersampled_train, X_undersampled_test, Y_undersampled_test)\n",
    "PrintStats(cmat, Y_undersampled_test, pred)\n",
    "\n",
    "disp = ConfusionMatrixDisplay(confusion_matrix=cmat, display_labels=class_names)\n",
    "disp.plot(values_format='d')  # 'd' to display numbers as integers\n",
    "plt.title('Fine Tuned Confusion Matrix / Undersampled')\n",
    "plt.show()"
   ]
  },
  {
   "cell_type": "code",
   "execution_count": 24,
   "id": "b126f274-2979-45f9-be67-fc7f644dc223",
   "metadata": {},
   "outputs": [
    {
     "data": {
      "text/plain": [
       "0.9358108108108109"
      ]
     },
     "execution_count": 24,
     "metadata": {},
     "output_type": "execute_result"
    }
   ],
   "source": [
    "accuracy_score(Y_undersampled_test, pred)"
   ]
  },
  {
   "cell_type": "code",
   "execution_count": 25,
   "id": "2ebe2383-7038-4c63-8be7-8da666cad54b",
   "metadata": {},
   "outputs": [
    {
     "name": "stdout",
     "output_type": "stream",
     "text": [
      "              precision    recall  f1-score   support\n",
      "\n",
      "           0       0.92      0.95      0.93       143\n",
      "           1       0.95      0.92      0.94       153\n",
      "\n",
      "    accuracy                           0.94       296\n",
      "   macro avg       0.94      0.94      0.94       296\n",
      "weighted avg       0.94      0.94      0.94       296\n",
      "\n"
     ]
    }
   ],
   "source": [
    "print (classification_report(Y_undersampled_test, pred))"
   ]
  },
  {
   "cell_type": "markdown",
   "id": "e215a909-ce64-428b-b059-ef7269ca761e",
   "metadata": {},
   "source": [
    "While overall accuracy has decreased, sensitivity has significantly improved. From the confusion matrix, we can see that the model now correctly identifies a much higher proportion of fraudulent transactions. However, this improvement typically comes at the cost of misclassifying more legitimate transactions as fraudulent."
   ]
  },
  {
   "cell_type": "code",
   "execution_count": 26,
   "id": "93094f4c-5459-4aa8-be2f-63829b73704a",
   "metadata": {},
   "outputs": [],
   "source": [
    "# Fianl Fine Tiuned Model"
   ]
  },
  {
   "cell_type": "code",
   "execution_count": 27,
   "id": "a8af03c3-2e49-4e03-8e62-6f1aa996a1b9",
   "metadata": {},
   "outputs": [
    {
     "data": {
      "image/png": "[encoded data removed]",
      "text/plain": [
       "<Figure size 640x480 with 2 Axes>"
      ]
     },
     "metadata": {},
     "output_type": "display_data"
    }
   ],
   "source": [
    "lr = LogisticRegression(C=1, penalty='l2')\n",
    "cmat, pred = RunModel(lr, X_undersampled_train, Y_undersampled_train, X_test, y_test)\n",
    "PrintStats(cmat, y_test, pred)\n",
    "\n",
    "disp = ConfusionMatrixDisplay(confusion_matrix=cmat, display_labels=class_names)\n",
    "disp.plot(values_format='d')  # 'd' to display numbers as integers\n",
    "plt.title('Fine Tuned Confusion Matrix')\n",
    "plt.show()"
   ]
  },
  {
   "cell_type": "markdown",
   "id": "d163c278-72ea-4ca2-996d-69b51da6d307",
   "metadata": {},
   "source": [
    "# Final results\n",
    "The confusion matrix for the Logistic Regression model indicates:\n",
    "\n",
    "- 82,345 transactions were correctly classified as normal\n",
    "- 2963 transactions were incorrectly flagged as fraud (Type I error)\n",
    "- 12 transactions were mislabeled as normal but were actually fraud (Type II error)\n",
    "- 123 transactions were correctly identified as fraud"
   ]
  },
  {
   "cell_type": "code",
   "execution_count": 28,
   "id": "7f4eeb9a-8f96-43e6-a97c-d2b670ff196b",
   "metadata": {},
   "outputs": [
    {
     "data": {
      "text/plain": [
       "0.9651814660065775"
      ]
     },
     "execution_count": 28,
     "metadata": {},
     "output_type": "execute_result"
    }
   ],
   "source": [
    "accuracy_score(y_test, pred)"
   ]
  },
  {
   "cell_type": "code",
   "execution_count": 29,
   "id": "a44cffbe-953e-41a5-9544-d415a6554a76",
   "metadata": {},
   "outputs": [
    {
     "name": "stdout",
     "output_type": "stream",
     "text": [
      "              precision    recall  f1-score   support\n",
      "\n",
      "           0       1.00      0.97      0.98     85308\n",
      "           1       0.04      0.91      0.08       135\n",
      "\n",
      "    accuracy                           0.97     85443\n",
      "   macro avg       0.52      0.94      0.53     85443\n",
      "weighted avg       1.00      0.97      0.98     85443\n",
      "\n"
     ]
    }
   ],
   "source": [
    "print (classification_report(y_test, pred))"
   ]
  },
  {
   "cell_type": "code",
   "execution_count": 30,
   "id": "3b811582-e5b4-4f67-aceb-84dfa9306ddd",
   "metadata": {},
   "outputs": [
    {
     "data": {
      "image/png": "[encoded data removed]",
      "text/plain": [
       "<Figure size 640x480 with 1 Axes>"
      ]
     },
     "metadata": {},
     "output_type": "display_data"
    }
   ],
   "source": [
    "from sklearn import metrics  \n",
    "clf = LogisticRegression(C=1, penalty='l2')\n",
    "clf.fit(X_undersampled_train, Y_undersampled_train)\n",
    "y_pred = clf.predict(X_test)\n",
    "\n",
    "y_pred_probability = clf.predict_proba(X_test)[::,1]\n",
    "fpr, tpr, _ = metrics.roc_curve(y_test, y_pred_probability)\n",
    "auc = metrics.roc_auc_score(y_test, pred)\n",
    "plt.plot(fpr,tpr,label=\"LogisticRegression, auc=\"+str(auc))\n",
    "plt.legend(loc=4)\n",
    "plt.show()"
   ]
  },
  {
   "cell_type": "markdown",
   "id": "246e1694-aa45-42a9-8d8e-03ee4ba5959c",
   "metadata": {},
   "source": [
    "# Summary"
   ]
  },
  {
   "cell_type": "markdown",
   "id": "c0be01cb-899c-475b-a673-e2f0399b18c9",
   "metadata": {},
   "source": [
    "By adjusting the model, the correct detection rate for fraudulent transactions increased significantly, jumping from 55% to 91%. On the other hand, the correct identification rate for legitimate transactions dropped slightly, from 99% to 97%.\n",
    "\n",
    "Ultimately, it is important to strike a balance between these two metrics. In many cases, the cost of missing a fraudulent transaction outweighs the inconvenience of falsely flagging a legitimate one. To further refine the model, techniques such as data preprocessing and feature engineering can be employed to potentially boost performance."
   ]
  },
  {
   "cell_type": "markdown",
   "id": "7a6fe351-b7ca-48b5-a69f-61219b6cdf8d",
   "metadata": {},
   "source": [
    "# Model Parameters"
   ]
  },
  {
   "cell_type": "code",
   "execution_count": 39,
   "id": "daa58762-e361-423d-bec7-8dfe28dc23b9",
   "metadata": {},
   "outputs": [
    {
     "name": "stdout",
     "output_type": "stream",
     "text": [
      "\n",
      "Learned Coefficients:\n",
      "[[-0.06903161 -0.4088332  -0.18785614  1.00227142 -0.16918132 -0.07360419\n",
      "   0.5482526  -0.58590402 -0.2067429  -0.50340101  0.5276586  -0.71843683\n",
      "  -0.69000077 -0.76861882  0.11804707 -0.28991264 -0.13933811 -0.20988605\n",
      "  -0.44476081 -0.03986253  0.28903456  0.01398066 -0.61371378  0.21099853\n",
      "  -0.36389036 -0.15127222 -0.03876914  0.46852015 -0.00223385]]\n",
      "\n",
      "Learned Intercept:\n",
      "[-3.2155449]\n"
     ]
    }
   ],
   "source": [
    "print(\"\\nLearned Coefficients:\")\n",
    "print(lr.coef_)\n",
    "\n",
    "print(\"\\nLearned Intercept:\")\n",
    "print(lr.intercept_)"
   ]
  },
  {
   "cell_type": "code",
   "execution_count": 40,
   "id": "2cbe1786-69d4-47e8-980e-5f2486fbbede",
   "metadata": {},
   "outputs": [
    {
     "data": {
      "text/plain": [
       "array([[-0.06903161, -0.4088332 , -0.18785614,  1.00227142, -0.16918132,\n",
       "        -0.07360419,  0.5482526 , -0.58590402, -0.2067429 , -0.50340101,\n",
       "         0.5276586 , -0.71843683, -0.69000077, -0.76861882,  0.11804707,\n",
       "        -0.28991264, -0.13933811, -0.20988605, -0.44476081, -0.03986253,\n",
       "         0.28903456,  0.01398066, -0.61371378,  0.21099853, -0.36389036,\n",
       "        -0.15127222, -0.03876914,  0.46852015, -0.00223385]])"
      ]
     },
     "execution_count": 40,
     "metadata": {},
     "output_type": "execute_result"
    }
   ],
   "source": [
    "lr.coef_"
   ]
  },
  {
   "cell_type": "code",
   "execution_count": null,
   "id": "a52a20e5-3bd4-4aa6-8b9d-be4e2a9db70b",
   "metadata": {},
   "outputs": [],
   "source": []
  },
  {
   "cell_type": "code",
   "execution_count": 35,
   "id": "c5996071-ad7c-4ce1-ab6b-069b3775fbfe",
   "metadata": {},
   "outputs": [
    {
     "data": {
      "text/plain": [
       "array([ 1.83319105e+00,  7.45332779e-01, -1.13300871e+00,  3.89355598e+00,\n",
       "        8.58163817e-01,  9.10234501e-01, -4.98200069e-01,  3.44703186e-01,\n",
       "       -6.67939096e-01,  3.98155065e-01,  6.13867739e-01, -2.25614828e-02,\n",
       "        4.52018065e-01, -2.96920096e+00, -9.64967034e-01,  2.46444980e+00,\n",
       "        6.71240576e-01,  1.92102109e+00, -1.61692659e+00, -8.55787549e-02,\n",
       "        3.92894903e-02,  1.81651615e-01,  7.29809106e-02, -1.55298849e-01,\n",
       "       -1.49891395e-01,  1.27924878e-02,  4.08538192e-02,  2.29031159e-02,\n",
       "        1.73900000e+01])"
      ]
     },
     "execution_count": 35,
     "metadata": {},
     "output_type": "execute_result"
    }
   ],
   "source": [
    "X_undersampled_train.values[1]"
   ]
  },
  {
   "cell_type": "code",
   "execution_count": 33,
   "id": "b211a0de-71d7-499e-b722-6009c6802fbd",
   "metadata": {},
   "outputs": [
    {
     "data": {
      "text/plain": [
       "163586    1\n",
       "238466    1\n",
       "41943     1\n",
       "163666    0\n",
       "255206    0\n",
       "         ..\n",
       "6870      1\n",
       "224345    0\n",
       "69498     1\n",
       "154719    1\n",
       "102899    0\n",
       "Name: Class, Length: 688, dtype: int64"
      ]
     },
     "execution_count": 33,
     "metadata": {},
     "output_type": "execute_result"
    }
   ],
   "source": [
    "Y_undersampled_train"
   ]
  },
  {
   "cell_type": "code",
   "execution_count": 45,
   "id": "d67f6f97-3978-4871-b2a0-1ef518c370ff",
   "metadata": {},
   "outputs": [
    {
     "data": {
      "text/plain": [
       "(array([1.3859132]), array([0.79993901]))"
      ]
     },
     "execution_count": 45,
     "metadata": {},
     "output_type": "execute_result"
    }
   ],
   "source": [
    "# Step 1: Compute the linear combination (z)\n",
    "#z =  np.dot(lr.coef_, X_undersampled_train.values[1])\n",
    "z = lr.intercept_ + np.dot(lr.coef_, X_undersampled_train.values[1])\n",
    "def sigmoid(z):\n",
    "    return 1 / (1 + np.exp(-z))\n",
    "\n",
    "probability = sigmoid(z)\n",
    "z, probability"
   ]
  },
  {
   "cell_type": "code",
   "execution_count": 49,
   "id": "80ccbc48-8401-4eff-8470-203ad5cef501",
   "metadata": {},
   "outputs": [
    {
     "data": {
      "text/plain": [
       "array([ 9.49240655e-01,  1.33351901e+00, -4.85540201e+00,  1.83500588e+00,\n",
       "       -1.05324529e+00, -2.56282607e+00, -2.28698563e+00,  2.60906490e-01,\n",
       "       -8.95365546e-01, -4.54261204e+00,  2.45371038e+00, -4.92519870e+00,\n",
       "       -1.20041197e+00, -6.42437211e+00,  1.01489749e+00, -3.12942132e+00,\n",
       "       -5.14703878e+00, -1.81543653e+00,  5.20496923e-01,  4.24608329e-01,\n",
       "        3.06598170e-01, -8.54626652e-01,  1.01176996e-01, -2.81497410e-01,\n",
       "        2.44439389e-02, -1.07944112e-01,  6.25288550e-01,  3.15677391e-01,\n",
       "        6.50000000e+01])"
      ]
     },
     "execution_count": 49,
     "metadata": {},
     "output_type": "execute_result"
    }
   ],
   "source": [
    "X_undersampled_train.values[0]"
   ]
  },
  {
   "cell_type": "code",
   "execution_count": 50,
   "id": "3be54872-b7e0-487b-96a1-f771296b2bf3",
   "metadata": {},
   "outputs": [
    {
     "data": {
      "text/plain": [
       "array([ 1.83319105e+00,  7.45332779e-01, -1.13300871e+00,  3.89355598e+00,\n",
       "        8.58163817e-01,  9.10234501e-01, -4.98200069e-01,  3.44703186e-01,\n",
       "       -6.67939096e-01,  3.98155065e-01,  6.13867739e-01, -2.25614828e-02,\n",
       "        4.52018065e-01, -2.96920096e+00, -9.64967034e-01,  2.46444980e+00,\n",
       "        6.71240576e-01,  1.92102109e+00, -1.61692659e+00, -8.55787549e-02,\n",
       "        3.92894903e-02,  1.81651615e-01,  7.29809106e-02, -1.55298849e-01,\n",
       "       -1.49891395e-01,  1.27924878e-02,  4.08538192e-02,  2.29031159e-02,\n",
       "        1.73900000e+01])"
      ]
     },
     "execution_count": 50,
     "metadata": {},
     "output_type": "execute_result"
    }
   ],
   "source": [
    "X_undersampled_train.values[1]"
   ]
  },
  {
   "cell_type": "code",
   "execution_count": 51,
   "id": "17098532-cd6a-43c9-8ef0-623485fa9703",
   "metadata": {},
   "outputs": [
    {
     "data": {
      "text/plain": [
       "array([ -2.14051149,   4.10487145,  -8.9968594 ,   4.02839095,\n",
       "        -5.13135935,  -4.15356845,  -9.36009513,   1.92207488,\n",
       "        -4.02618037, -13.69131513,   9.09528815, -14.16812088,\n",
       "        -0.14045539, -17.62063435,   1.48274041, -13.25683309,\n",
       "       -21.6754835 ,  -7.82346882,   2.99511117,   1.72557762,\n",
       "         1.85426666,  -0.16553373,  -0.33993898,   0.29631376,\n",
       "         1.36422533,  -0.51899563,   2.35233347,   1.13062484,\n",
       "         0.76      ])"
      ]
     },
     "execution_count": 51,
     "metadata": {},
     "output_type": "execute_result"
    }
   ],
   "source": [
    "X_undersampled_train.values[2]"
   ]
  },
  {
   "cell_type": "code",
   "execution_count": 52,
   "id": "64bde2ab-18b5-45f1-a556-456aeb23ae40",
   "metadata": {},
   "outputs": [
    {
     "data": {
      "text/plain": [
       "array([ 2.08159123e+00, -7.74080414e-01, -6.74990508e-01, -3.22870723e-01,\n",
       "       -8.90004752e-01, -8.01468965e-01, -5.32596118e-01, -2.80944037e-01,\n",
       "       -3.54142288e-01,  7.99470065e-01, -8.14812023e-01,  6.85306426e-01,\n",
       "        1.54081885e+00, -3.26998429e-01,  7.29970899e-02, -1.48253805e+00,\n",
       "       -1.52970277e-01,  7.28147053e-01, -9.31707652e-01, -4.81297649e-01,\n",
       "       -3.29596858e-01, -3.10602724e-01,  2.68724516e-01,  2.00922706e-02,\n",
       "       -3.59342800e-01,  5.55034182e-01, -2.53850442e-02, -4.48682471e-02,\n",
       "        3.52900000e+01])"
      ]
     },
     "execution_count": 52,
     "metadata": {},
     "output_type": "execute_result"
    }
   ],
   "source": [
    "X_undersampled_train.values[3]"
   ]
  },
  {
   "cell_type": "code",
   "execution_count": 53,
   "id": "26bd7c10-bbac-42cc-a806-de44bfe73540",
   "metadata": {},
   "outputs": [
    {
     "data": {
      "text/plain": [
       "array([ 2.26292850e+00, -1.12503275e+00, -1.00353578e+00, -1.54054672e+00,\n",
       "       -1.24871400e+00, -1.37195067e+00, -7.49379780e-01, -3.92092331e-01,\n",
       "       -2.02413001e+00,  1.83195415e+00,  1.50943646e+00,  4.55695564e-01,\n",
       "        1.24347768e+00, -8.04317087e-02, -6.71814538e-01, -6.36981235e-01,\n",
       "        3.05873230e-01,  2.35155188e-01, -2.66162999e-01, -3.96292997e-01,\n",
       "        1.67741819e-01,  9.95494086e-01,  1.18589471e-01,  5.92352231e-01,\n",
       "        2.14934688e-02,  1.31359426e-02, -9.16496757e-03, -6.39920878e-02,\n",
       "        1.00000000e+01])"
      ]
     },
     "execution_count": 53,
     "metadata": {},
     "output_type": "execute_result"
    }
   ],
   "source": [
    "X_undersampled_train.values[4]"
   ]
  },
  {
   "cell_type": "code",
   "execution_count": 54,
   "id": "6797f048-da77-4324-aed6-9265fea6a1f5",
   "metadata": {},
   "outputs": [
    {
     "data": {
      "text/plain": [
       "array([-0.98380479,  0.93786371,  2.16863206,  1.59299708, -0.63045676,\n",
       "        0.88820742, -0.07519119,  0.57879802,  0.65137314, -0.35932609,\n",
       "       -1.22866992,  0.61253985, -0.33162286, -0.71328004, -1.33506809,\n",
       "       -1.60991986,  1.22499241, -1.04831463,  1.29982267,  0.05630917,\n",
       "       -0.37427197, -0.47138299, -0.07749574,  0.07296752, -0.07198752,\n",
       "       -0.40822914,  0.03773442, -0.12005928, 24.95      ])"
      ]
     },
     "execution_count": 54,
     "metadata": {},
     "output_type": "execute_result"
    }
   ],
   "source": [
    "X_undersampled_train.values[5]"
   ]
  },
  {
   "cell_type": "code",
   "execution_count": 55,
   "id": "28bc6367-b847-4345-be90-5e037537f0e8",
   "metadata": {},
   "outputs": [
    {
     "data": {
      "text/plain": [
       "array([ 2.00726151e+00,  1.07343501e-01, -3.27922654e+00,  3.38815551e-01,\n",
       "        3.20909062e+00,  3.03799289e+00,  1.90754640e-01,  4.63073328e-01,\n",
       "        9.27006978e-01,  2.01240565e-02,  9.40410768e-01, -2.35920593e+00,\n",
       "        1.32433419e+00,  2.49377532e+00, -1.85632976e-01, -5.84091783e-01,\n",
       "        2.37223943e-01, -2.51801877e-01, -7.23436995e-01, -1.91442433e-01,\n",
       "        3.89660553e-02,  2.96747790e-01, -3.94352044e-02,  6.52840188e-01,\n",
       "        5.65909629e-01, -4.36614147e-01, -5.11632278e-02, -7.42799360e-02,\n",
       "        3.60000000e+01])"
      ]
     },
     "execution_count": 55,
     "metadata": {},
     "output_type": "execute_result"
    }
   ],
   "source": [
    "X_undersampled_train.values[6]"
   ]
  },
  {
   "cell_type": "code",
   "execution_count": 56,
   "id": "fbea6b52-0408-4d93-a899-167b99befbd1",
   "metadata": {},
   "outputs": [
    {
     "data": {
      "text/plain": [
       "array([-0.98380479,  0.93786371,  2.16863206,  1.59299708, -0.63045676,\n",
       "        0.88820742, -0.07519119,  0.57879802,  0.65137314, -0.35932609,\n",
       "       -1.22866992,  0.61253985, -0.33162286, -0.71328004, -1.33506809,\n",
       "       -1.60991986,  1.22499241, -1.04831463,  1.29982267,  0.05630917,\n",
       "       -0.37427197, -0.47138299, -0.07749574,  0.07296752, -0.07198752,\n",
       "       -0.40822914,  0.03773442, -0.12005928, 24.95      ])"
      ]
     },
     "execution_count": 56,
     "metadata": {},
     "output_type": "execute_result"
    }
   ],
   "source": [
    "X_undersampled_train.values[5]"
   ]
  },
  {
   "cell_type": "code",
   "execution_count": 57,
   "id": "8869e869-e463-48a7-84d7-61381af46291",
   "metadata": {},
   "outputs": [
    {
     "data": {
      "text/plain": [
       "array([-0.98380479,  0.93786371,  2.16863206,  1.59299708, -0.63045676,\n",
       "        0.88820742, -0.07519119,  0.57879802,  0.65137314, -0.35932609,\n",
       "       -1.22866992,  0.61253985, -0.33162286, -0.71328004, -1.33506809,\n",
       "       -1.60991986,  1.22499241, -1.04831463,  1.29982267,  0.05630917,\n",
       "       -0.37427197, -0.47138299, -0.07749574,  0.07296752, -0.07198752,\n",
       "       -0.40822914,  0.03773442, -0.12005928, 24.95      ])"
      ]
     },
     "execution_count": 57,
     "metadata": {},
     "output_type": "execute_result"
    }
   ],
   "source": [
    "X_undersampled_train.values[5]"
   ]
  },
  {
   "cell_type": "code",
   "execution_count": 58,
   "id": "02c0c418-281b-4a10-a843-b02ead77a654",
   "metadata": {},
   "outputs": [
    {
     "data": {
      "text/plain": [
       "array([-0.98380479,  0.93786371,  2.16863206,  1.59299708, -0.63045676,\n",
       "        0.88820742, -0.07519119,  0.57879802,  0.65137314, -0.35932609,\n",
       "       -1.22866992,  0.61253985, -0.33162286, -0.71328004, -1.33506809,\n",
       "       -1.60991986,  1.22499241, -1.04831463,  1.29982267,  0.05630917,\n",
       "       -0.37427197, -0.47138299, -0.07749574,  0.07296752, -0.07198752,\n",
       "       -0.40822914,  0.03773442, -0.12005928, 24.95      ])"
      ]
     },
     "execution_count": 58,
     "metadata": {},
     "output_type": "execute_result"
    }
   ],
   "source": [
    "X_undersampled_train.values[5]"
   ]
  },
  {
   "cell_type": "code",
   "execution_count": 59,
   "id": "2cfc7577-79ae-4471-a226-3e55fd0cd608",
   "metadata": {},
   "outputs": [
    {
     "data": {
      "text/plain": [
       "163586    1\n",
       "238466    1\n",
       "41943     1\n",
       "163666    0\n",
       "255206    0\n",
       "73492     0\n",
       "150814    0\n",
       "69611     0\n",
       "76609     1\n",
       "154587    1\n",
       "Name: Class, dtype: int64"
      ]
     },
     "execution_count": 59,
     "metadata": {},
     "output_type": "execute_result"
    }
   ],
   "source": [
    "Y_undersampled_train[0:10]"
   ]
  },
  {
   "cell_type": "code",
   "execution_count": null,
   "id": "8044a434-b853-40e9-8968-29551e2e5c28",
   "metadata": {},
   "outputs": [],
   "source": []
  },
  {
   "cell_type": "code",
   "execution_count": null,
   "id": "d986e8d9-134e-47dc-a342-04d51acaab2e",
   "metadata": {},
   "outputs": [],
   "source": []
  },
  {
   "cell_type": "code",
   "execution_count": null,
   "id": "7e06ac62-6171-4ecd-9eb8-1f1cef5d9eb8",
   "metadata": {},
   "outputs": [],
   "source": []
  },
  {
   "cell_type": "code",
   "execution_count": 48,
   "id": "266e6e3d-ff13-4dbb-b0ff-43c3cb1a3ac4",
   "metadata": {},
   "outputs": [
    {
     "ename": "ModuleNotFoundError",
     "evalue": "No module named 'openfhe'",
     "output_type": "error",
     "traceback": [
      "\u001b[1;31m---------------------------------------------------------------------------\u001b[0m",
      "\u001b[1;31mModuleNotFoundError\u001b[0m                       Traceback (most recent call last)",
      "Cell \u001b[1;32mIn[48], line 1\u001b[0m\n\u001b[1;32m----> 1\u001b[0m \u001b[38;5;28;01mfrom\u001b[39;00m \u001b[38;5;21;01mopenfhe\u001b[39;00m \u001b[38;5;28;01mimport\u001b[39;00m \u001b[38;5;241m*\u001b[39m\n\u001b[0;32m      2\u001b[0m \u001b[38;5;28;01mimport\u001b[39;00m \u001b[38;5;21;01mmath\u001b[39;00m\n\u001b[0;32m      4\u001b[0m \u001b[38;5;28mprint\u001b[39m(\u001b[38;5;124m\"\u001b[39m\u001b[38;5;124m--------------------------------- EVAL LOGISTIC FUNCTION ---------------------------------\u001b[39m\u001b[38;5;130;01m\\n\u001b[39;00m\u001b[38;5;124m\"\u001b[39m)\n",
      "\u001b[1;31mModuleNotFoundError\u001b[0m: No module named 'openfhe'"
     ]
    }
   ],
   "source": [
    "from openfhe import *\n",
    "import math\n",
    "\n",
    "print(\"--------------------------------- EVAL LOGISTIC FUNCTION ---------------------------------\\n\")\n",
    "# plaintextModulus = 65537\n",
    "# sigma = 3.2\n",
    "securityLevel = SecurityLevel.HEStd_128_classic\n",
    "\n",
    "# batchSize = 16\n",
    "# multDepth = 4\n",
    "# digitSize = 30\n",
    "# dcrtBits = 60\n",
    "\n",
    "parameters = CCParamsCKKSRNS()\n",
    "#parameters.SetSecurityLevel(SecurityLevel.HEStd_NotSet)\n",
    "parameters.SetSecurityLevel(securityLevel)\n",
    "#parameters.SetRingDim(1 << 10)\n",
    "parameters.SetRingDim(1 << 16)\n",
    "parameters.SetKeySwitchTechnique(HYBRID)\n",
    "\n",
    "scaling_mod_size = 30\n",
    "first_mod_size = 60\n",
    "\n",
    "parameters.SetScalingModSize(scaling_mod_size)\n",
    "parameters.SetFirstModSize(first_mod_size)\n",
    "\n",
    "poly_degree = 16\n",
    "mult_depth = 6\n",
    "\n",
    "parameters.SetMultiplicativeDepth(mult_depth)\n",
    "cc = GenCryptoContext(parameters)\n",
    "cc.Enable(PKESchemeFeature.PKE)\n",
    "cc.Enable(PKESchemeFeature.KEYSWITCH)\n",
    "cc.Enable(PKESchemeFeature.LEVELEDSHE)\n",
    "cc.Enable(PKESchemeFeature.ADVANCEDSHE)\n",
    "\n",
    "key_pair = cc.KeyGen()\n",
    "cc.EvalMultKeyGen(key_pair.secretKey)\n",
    "cc.EvalSumKeyGen(key_pair.secretKey);\n",
    "\n",
    "SerializeToFile('cc.dat', cc, BINARY)\n",
    "SerializeToFile('sk.dat',key_pair.secretKey, BINARY)\n",
    "SerializeToFile('pk.dat',key_pair.publicKey, BINARY)\n",
    "cc.SerializeEvalMultKey('mk.dat', BINARY)\n",
    "cc.SerializeEvalAutomorphismKey('am.dat', BINARY)\n",
    "#print(len(SerializeEvalSumKeyString(BINARY)))\n"
   ]
  },
  {
   "cell_type": "code",
   "execution_count": null,
   "id": "0e8dd9bf-bad0-448f-9ab2-ed04fb7ca99b",
   "metadata": {},
   "outputs": [],
   "source": [
    "from openfhe import *\n",
    "import math\n",
    "\n",
    "cc, success = DeserializeCryptoContext('cc.dat', BINARY)\n",
    "print(success)\n",
    "ClearEvalMultKeys()\n",
    "\n",
    "secretKey, success = DeserializePrivateKey('sk.dat', BINARY)\n",
    "print(success)\n",
    "publicKey, success = DeserializePublicKey('pk.dat', BINARY)\n",
    "print(success)\n",
    "success = cc.DeserializeEvalMultKey('mk.dat', BINARY)\n",
    "print(success)\n",
    "\n",
    "success = cc.DeserializeEvalAutomorphismKey('am.dat', BINARY)\n",
    "print(success)\n",
    "\n",
    "\n",
    "\n",
    "# Step 3: Prepare Vectors\n",
    "vector1 = [complex(a,0) for a in [-0.06903161, -0.4088332 , -0.18785614,  1.00227142, -0.16918132,\n",
    "        -0.07360419,  0.5482526 , -0.58590402, -0.2067429 , -0.50340101,\n",
    "         0.5276586 , -0.71843683, -0.69000077, -0.76861882,  0.11804707,\n",
    "        -0.28991264, -0.13933811, -0.20988605, -0.44476081, -0.03986253,\n",
    "         0.28903456,  0.01398066, -0.61371378,  0.21099853, -0.36389036,\n",
    "        -0.15127222, -0.03876914,  0.46852015, -0.00223385]]  # First vector\n",
    "vector2 = [complex(a,0) for a in [ 1.83319105e+00,  7.45332779e-01, -1.13300871e+00,  3.89355598e+00,\n",
    "        8.58163817e-01,  9.10234501e-01, -4.98200069e-01,  3.44703186e-01,\n",
    "       -6.67939096e-01,  3.98155065e-01,  6.13867739e-01, -2.25614828e-02,\n",
    "        4.52018065e-01, -2.96920096e+00, -9.64967034e-01,  2.46444980e+00,\n",
    "        6.71240576e-01,  1.92102109e+00, -1.61692659e+00, -8.55787549e-02,\n",
    "        3.92894903e-02,  1.81651615e-01,  7.29809106e-02, -1.55298849e-01,\n",
    "       -1.49891395e-01,  1.27924878e-02,  4.08538192e-02,  2.29031159e-02,\n",
    "        1.73900000e+01]]  # Second vector\n",
    "\n",
    "vector3 = [complex(a,0) for a in [-3.2155449]]  # Second vector\n",
    "\n",
    "# Step 4: Encrypt Vectors\n",
    "plaintext1 = cc.MakeCKKSPackedPlaintext(vector1)\n",
    "plaintext2 = cc.MakeCKKSPackedPlaintext(vector2)\n",
    "plaintext3 = cc.MakeCKKSPackedPlaintext(vector3)\n",
    "\n",
    "ciphertext1 = cc.Encrypt(publicKey, plaintext1)\n",
    "ciphertext2 = cc.Encrypt(publicKey, plaintext2)\n",
    "ciphertext3 = cc.Encrypt(publicKey, plaintext3)\n",
    "\n",
    "# # Step 5: Homomorphic Dot Product\n",
    "encrypted_dot_product = cc.EvalInnerProduct(ciphertext1, ciphertext2, len(vector1))\n",
    "encrypted_dot_product = cc.EvalAdd(encrypted_dot_product, ciphertext3)\n",
    "\n",
    "# # Step 6: Decrypt the Result\n",
    "decrypted_result = cc.Decrypt(secretKey, encrypted_dot_product)\n",
    "decrypted_result.SetLength(1)\n",
    "\n",
    "# # Step 7: Output the Result\n",
    "print(f\"Vector 1: {vector1}\")\n",
    "print(f\"Vector 2: {vector2}\")\n",
    "print(f\"Decrypted Dot Product: {decrypted_result}\")\n",
    "\n"
   ]
  },
  {
   "cell_type": "code",
   "execution_count": null,
   "id": "43bd98f5-3dc2-4058-b989-09628353ca0a",
   "metadata": {},
   "outputs": [],
   "source": []
  },
  {
   "cell_type": "code",
   "execution_count": null,
   "id": "21c4fbec-aa7a-4978-9c3c-ecc28ed617f4",
   "metadata": {},
   "outputs": [],
   "source": []
  },
  {
   "cell_type": "code",
   "execution_count": null,
   "id": "778e0e57-4ca6-4a9b-89d9-a22c419e5142",
   "metadata": {},
   "outputs": [],
   "source": [
    "from openfhe import *\n",
    "import math\n",
    "\n",
    "cc, success = DeserializeCryptoContext('cc.dat', BINARY)\n",
    "print(success)\n",
    "ClearEvalMultKeys()\n",
    "\n",
    "secretKey, success = DeserializePrivateKey('sk.dat', BINARY)\n",
    "print(success)\n",
    "publicKey, success = DeserializePublicKey('pk.dat', BINARY)\n",
    "print(success)\n",
    "success = cc.DeserializeEvalMultKey('mk.dat', BINARY)\n",
    "print(success)\n",
    "\n",
    "success = cc.DeserializeEvalAutomorphismKey('am.dat', BINARY)\n",
    "print(success)\n",
    "\n",
    "\n",
    "\n",
    "# Step 3: Prepare Vectors\n",
    "vector1 = [complex(a,0) for a in [-0.06903161, -0.4088332 , -0.18785614,  1.00227142, -0.16918132,\n",
    "        -0.07360419,  0.5482526 , -0.58590402, -0.2067429 , -0.50340101,\n",
    "         0.5276586 , -0.71843683, -0.69000077, -0.76861882,  0.11804707,\n",
    "        -0.28991264, -0.13933811, -0.20988605, -0.44476081, -0.03986253,\n",
    "         0.28903456,  0.01398066, -0.61371378,  0.21099853, -0.36389036,\n",
    "        -0.15127222, -0.03876914,  0.46852015, -0.00223385]]  # First vector\n",
    "vector2 = [complex(a,0) for a in [ 1.83319105e+00,  7.45332779e-01, -1.13300871e+00,  3.89355598e+00,\n",
    "        8.58163817e-01,  9.10234501e-01, -4.98200069e-01,  3.44703186e-01,\n",
    "       -6.67939096e-01,  3.98155065e-01,  6.13867739e-01, -2.25614828e-02,\n",
    "        4.52018065e-01, -2.96920096e+00, -9.64967034e-01,  2.46444980e+00,\n",
    "        6.71240576e-01,  1.92102109e+00, -1.61692659e+00, -8.55787549e-02,\n",
    "        3.92894903e-02,  1.81651615e-01,  7.29809106e-02, -1.55298849e-01,\n",
    "       -1.49891395e-01,  1.27924878e-02,  4.08538192e-02,  2.29031159e-02,\n",
    "        1.73900000e+01]]  # Second vector\n",
    "\n",
    "vector3 = [complex(a,0) for a in [-3.2155449]]  # Second vector\n",
    "\n",
    "# Step 4: Encrypt Vectors\n",
    "plaintext1 = cc.MakeCKKSPackedPlaintext(vector1)\n",
    "plaintext2 = cc.MakeCKKSPackedPlaintext(vector2)\n",
    "plaintext3 = cc.MakeCKKSPackedPlaintext(vector3)\n",
    "\n",
    "ciphertext1 = cc.Encrypt(publicKey, plaintext1)\n",
    "ciphertext2 = cc.Encrypt(publicKey, plaintext2)\n",
    "ciphertext3 = cc.Encrypt(publicKey, plaintext3)\n",
    "\n",
    "# # Step 5: Homomorphic Dot Product\n",
    "encrypted_dot_product = cc.EvalInnerProduct(ciphertext1, ciphertext2, len(vector1))\n",
    "encrypted_dot_product = cc.EvalAdd(encrypted_dot_product, ciphertext3)\n",
    "\n",
    "# # Step 6: Decrypt the Result\n",
    "decrypted_result = cc.Decrypt(secretKey, encrypted_dot_product)\n",
    "decrypted_result.SetLength(1)\n",
    "\n",
    "# # Step 7: Output the Result\n",
    "print(f\"Vector 1: {vector1}\")\n",
    "print(f\"Vector 2: {vector2}\")\n",
    "print(f\"Decrypted Dot Product: {decrypted_result}\")\n",
    "\n"
   ]
  }
 ],
 "metadata": {
  "kernelspec": {
   "display_name": "Python 3 (ipykernel)",
   "language": "python",
   "name": "python3"
  },
  "language_info": {
   "codemirror_mode": {
    "name": "ipython",
    "version": 3
   },
   "file_extension": ".py",
   "mimetype": "text/x-python",
   "name": "python",
   "nbconvert_exporter": "python",
   "pygments_lexer": "ipython3",
   "version": "3.11.7"
  }
 },
 "nbformat": 4,
 "nbformat_minor": 5
}
